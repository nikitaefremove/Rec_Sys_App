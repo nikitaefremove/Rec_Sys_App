{
 "cells": [
  {
   "cell_type": "markdown",
   "id": "ab4232ba-d191-4fbf-a7eb-9495c9a74b90",
   "metadata": {},
   "source": [
    "# DATA COLLECTING"
   ]
  },
  {
   "cell_type": "markdown",
   "id": "20dabb33-1770-402b-8b92-15e3ca8a6803",
   "metadata": {},
   "source": [
    "___"
   ]
  },
  {
   "cell_type": "markdown",
   "id": "12e4353c-1dae-438e-a23f-db50b77ba8be",
   "metadata": {},
   "source": [
    "### IMPORT LIBRARIES"
   ]
  },
  {
   "cell_type": "code",
   "execution_count": 1,
   "id": "0a73e107-8bf2-4924-8c41-c0657863a2c2",
   "metadata": {},
   "outputs": [],
   "source": [
    "from sqlalchemy import create_engine\n",
    "import pandas as pd"
   ]
  },
  {
   "cell_type": "markdown",
   "id": "85b49958-2609-434b-8d44-165d124f7eea",
   "metadata": {},
   "source": [
    "### COLLECTING DATA USING SQLALCHEMY"
   ]
  },
  {
   "cell_type": "code",
   "execution_count": 2,
   "id": "a3f5a098-8f79-48b6-bc70-ffff6e449975",
   "metadata": {},
   "outputs": [],
   "source": [
    "engine = create_engine(\n",
    "    \"postgresql://robot-startml-ro:pheiph0hahj1Vaif@\"\n",
    "    \"postgres.lab.karpov.courses:6432/startml\"\n",
    ")\n",
    "\n",
    "def fetch_data(query: str) -> pd.DataFrame:\n",
    "    return pd.read_sql(query, engine)"
   ]
  },
  {
   "cell_type": "code",
   "execution_count": 3,
   "id": "92eb3677-8e42-41fb-a0ac-1cedb622a5f3",
   "metadata": {},
   "outputs": [],
   "source": [
    "user_data = fetch_data(\"SELECT * FROM public.user_data\")\n",
    "post_text_df = fetch_data(\"SELECT * FROM public.post_text_df\")\n",
    "feed_data = fetch_data(\"SELECT * FROM public.feed_data LIMIT 1000000\")\n",
    "count_actions = fetch_data(\"SELECT user_id, COUNT(action) FROM public.feed_data GROUP BY user_id;\")"
   ]
  },
  {
   "cell_type": "markdown",
   "id": "487927c1-1cb3-4968-a0e1-a4975f1189b3",
   "metadata": {},
   "source": [
    "### EXPORT DATAFRAMES TO CSV"
   ]
  },
  {
   "cell_type": "code",
   "execution_count": 4,
   "id": "04ef0828-395a-479d-ba99-2aa5b74f4546",
   "metadata": {},
   "outputs": [],
   "source": [
    "user_data.to_csv('user_data.csv', index=False)"
   ]
  },
  {
   "cell_type": "code",
   "execution_count": 5,
   "id": "38c69a46-509e-46ec-81b1-b5ac090b2cae",
   "metadata": {},
   "outputs": [],
   "source": [
    "post_text_df.to_csv('post_text_df.csv', index=False)"
   ]
  },
  {
   "cell_type": "code",
   "execution_count": 6,
   "id": "ffac7128-38ef-4745-b41a-4d2ac574785d",
   "metadata": {},
   "outputs": [],
   "source": [
    "feed_data.to_csv('feed_data.csv', index=False)"
   ]
  },
  {
   "cell_type": "code",
   "execution_count": 7,
   "id": "9aaa1f9b-dc98-4b75-899f-48863de65f05",
   "metadata": {},
   "outputs": [],
   "source": [
    "count_actions.to_csv('counT_actions.csv', index=False)"
   ]
  },
  {
   "cell_type": "code",
   "execution_count": 8,
   "id": "3e2edf38-50fc-4725-bc3a-bbc475c09c2e",
   "metadata": {},
   "outputs": [],
   "source": [
    "engine.dispose()"
   ]
  },
  {
   "cell_type": "markdown",
   "id": "3b4f3016-c1de-4c4a-824e-dfe31d40499b",
   "metadata": {},
   "source": [
    "___"
   ]
  }
 ],
 "metadata": {
  "kernelspec": {
   "display_name": "Python 3 (ipykernel)",
   "language": "python",
   "name": "python3"
  },
  "language_info": {
   "codemirror_mode": {
    "name": "ipython",
    "version": 3
   },
   "file_extension": ".py",
   "mimetype": "text/x-python",
   "name": "python",
   "nbconvert_exporter": "python",
   "pygments_lexer": "ipython3",
   "version": "3.8.10"
  }
 },
 "nbformat": 4,
 "nbformat_minor": 5
}
