{
 "cells": [
  {
   "cell_type": "code",
   "execution_count": 1,
   "id": "722dbbb2-f3da-477d-9e3c-1b67110f453b",
   "metadata": {},
   "outputs": [],
   "source": [
    "import pandas as pd\n",
    "from sqlalchemy import create_engine\n",
    "\n",
    "engine = create_engine(\n",
    "    \"postgresql://robot-startml-ro:pheiph0hahj1Vaif@\"\n",
    "    \"postgres.lab.karpov.courses:6432/startml\"\n",
    ")"
   ]
  },
  {
   "cell_type": "markdown",
   "id": "ef671660-6a0d-4104-9dd4-b70f4ca40598",
   "metadata": {},
   "source": [
    "### LOAD MODEL"
   ]
  },
  {
   "cell_type": "code",
   "execution_count": 2,
   "id": "c7fc6d89-d9fd-4803-8128-24f1a8feed9f",
   "metadata": {},
   "outputs": [],
   "source": [
    "import os\n",
    "from catboost import CatBoostClassifier\n",
    "\n",
    "def get_model_path(path: str) -> str:\n",
    "    if os.environ.get(\"IS_LMS\") == \"1\":  # проверяем где выполняется код в лмс, или локально. Немного магии\n",
    "        MODEL_PATH = '/workdir/user_input/model'\n",
    "    else:\n",
    "        MODEL_PATH = path\n",
    "    return MODEL_PATH\n",
    "\n",
    "def load_models():\n",
    "    model_path = get_model_path(\"/Users/nikitaefremov/Documents/DATA_SCIENCE/SML_ML/Rec_Sys_App/Rec_Sys_App/catboost_model\")\n",
    "    model = CatBoostClassifier().load_model('catboost_model', format='cbm')\n",
    "    return model"
   ]
  },
  {
   "cell_type": "code",
   "execution_count": 3,
   "id": "d9886cc9-2b18-44ec-8a62-2fab2bd5e649",
   "metadata": {},
   "outputs": [],
   "source": [
    "model = load_models()"
   ]
  },
  {
   "cell_type": "markdown",
   "id": "10bfd5b5-15b3-4607-874b-98e44ea786fc",
   "metadata": {},
   "source": [
    "### LOAD DATAFRAMES"
   ]
  },
  {
   "cell_type": "code",
   "execution_count": 4,
   "id": "85c56a2b-7f51-482d-be61-ccb627c95a4a",
   "metadata": {},
   "outputs": [],
   "source": [
    "def batch_load_sql(query: str) -> pd.DataFrame:\n",
    "    CHUNKSIZE = 200000\n",
    "    engine = create_engine(\n",
    "        \"postgresql://robot-startml-ro:pheiph0hahj1Vaif@\"\n",
    "        \"postgres.lab.karpov.courses:6432/startml\"\n",
    "    )\n",
    "    conn = engine.connect().execution_options(stream_results=True)\n",
    "    chunks = []\n",
    "    for chunk_dataframe in pd.read_sql(query, conn, chunksize=CHUNKSIZE):\n",
    "        chunks.append(chunk_dataframe)\n",
    "    conn.close()\n",
    "    return pd.concat(chunks, ignore_index=True)\n",
    "\n",
    "def load_features() -> pd.DataFrame:\n",
    "    query1 = 'SELECT * FROM nikita_efremov_user_features_df'\n",
    "    query2 = 'SELECT * FROM nikita_efremov_post_features_df'\n",
    "    return batch_load_sql(query1), batch_load_sql(query2)"
   ]
  },
  {
   "cell_type": "code",
   "execution_count": 5,
   "id": "9ff5f735-de84-45bb-bf3d-508ff4b21abf",
   "metadata": {
    "scrolled": true
   },
   "outputs": [],
   "source": [
    "user_features_df, post_features_df = load_features()"
   ]
  },
  {
   "cell_type": "markdown",
   "id": "89ff86dc-48ca-4d21-829a-271d067f8e46",
   "metadata": {},
   "source": [
    "### FUNCTION FOR PREDICTION"
   ]
  },
  {
   "cell_type": "code",
   "execution_count": 6,
   "id": "24143431-b224-403f-bae4-25bfebe7ea62",
   "metadata": {},
   "outputs": [],
   "source": [
    "def prediction_top_5_posts(user_features_df, post_features_df, user_id, model):\n",
    "\n",
    "    ## Save the place for features is important for model\n",
    "    places_for_features_columns = ['user_id', 'post_id', 'gender', 'age', 'country', 'city',\n",
    "                                  'exp_group', 'os', 'source', 'count_actions', 'category_of_age',\n",
    "                                  'cluster_feature', 'month', 'day', 'second', 'weekday', 'is_weekend',\n",
    "                                  'feature_1', 'feature_2', 'feature_3', 'feature_4', 'feature_5', \n",
    "                                  'feature_6', 'feature_7', 'feature_8', 'feature_9', 'feature_10', \n",
    "                                  'feature_11', 'feature_12', 'feature_13', 'feature_14', 'feature_15', \n",
    "                                  'feature_16', 'feature_17', 'feature_18', 'feature_19', 'feature_20', \n",
    "                                  'feature_21', 'feature_22', 'feature_23', 'feature_24', 'feature_25',\n",
    "                                  'feature_26', 'feature_27', 'feature_28', 'feature_29', 'feature_30', \n",
    "                                  'feature_31', 'feature_32', 'feature_33', 'feature_34', 'feature_35', \n",
    "                                  'feature_36', 'feature_37', 'feature_38', 'feature_39', 'feature_40',\n",
    "                                  'feature_41', 'feature_42', 'feature_43', 'feature_44', 'feature_45', \n",
    "                                  'feature_46', 'feature_47', 'feature_48', 'feature_49', 'feature_50',\n",
    "                                  'part_of_day', 'topic']\n",
    "    \n",
    "    # Create copy of dataframes and find the data of this user \n",
    "    this_user_data = user_features_df.copy().loc[user_features_df['user_id'] == user_id]\n",
    "    all_post_features_df = post_features_df.copy()\n",
    "\n",
    "    # Merge dataframes on key column\n",
    "    this_user_data['key'] = 1\n",
    "    all_post_features_df['key'] = 1\n",
    "    result = this_user_data.merge(all_post_features_df, on='key').drop('key', axis=1)\n",
    "    result = result[places_for_features_columns].set_index(['user_id', 'post_id'])\n",
    "    result['prediction'] = model.predict_proba(result)[:, 1]\n",
    "    top_5_posts = result.sort_values('prediction', ascending=False).head(5).index.get_level_values('post_id').tolist()\n",
    "    return top_5_posts"
   ]
  },
  {
   "cell_type": "markdown",
   "id": "6fb4250a-8069-410b-b668-42ee64ea29f5",
   "metadata": {},
   "source": [
    "### TEST PREDICTION"
   ]
  },
  {
   "cell_type": "code",
   "execution_count": 18,
   "id": "9154e934-389c-419c-88d0-761af3f868dd",
   "metadata": {},
   "outputs": [],
   "source": [
    "top_5_posts_ids = prediction_top_5_posts(user_features_df, post_features_df, 160001, model)"
   ]
  },
  {
   "cell_type": "markdown",
   "id": "b316a4e2-e38a-4583-8934-a2563703bee1",
   "metadata": {},
   "source": [
    "### OPEN POST TABLE AND FIND TOP 5 RECOMMENDAATIONS"
   ]
  },
  {
   "cell_type": "code",
   "execution_count": 19,
   "id": "59e69596-a07f-40f6-b98e-e120e39f8b77",
   "metadata": {},
   "outputs": [],
   "source": [
    "post_text_df = pd.read_sql('SELECT * FROM public.post_text_df', con=engine)"
   ]
  },
  {
   "cell_type": "code",
   "execution_count": 20,
   "id": "90000515-c2d2-4dc4-8518-b36acf1e6e2e",
   "metadata": {},
   "outputs": [],
   "source": [
    "posts = post_text_df[post_text_df['post_id'].isin(top_5_posts_ids)]"
   ]
  },
  {
   "cell_type": "code",
   "execution_count": 21,
   "id": "4659a890-59d7-46fc-ac9d-66450e5bb51a",
   "metadata": {},
   "outputs": [
    {
     "data": {
      "text/html": [
       "<div>\n",
       "<style scoped>\n",
       "    .dataframe tbody tr th:only-of-type {\n",
       "        vertical-align: middle;\n",
       "    }\n",
       "\n",
       "    .dataframe tbody tr th {\n",
       "        vertical-align: top;\n",
       "    }\n",
       "\n",
       "    .dataframe thead th {\n",
       "        text-align: right;\n",
       "    }\n",
       "</style>\n",
       "<table border=\"1\" class=\"dataframe\">\n",
       "  <thead>\n",
       "    <tr style=\"text-align: right;\">\n",
       "      <th></th>\n",
       "      <th>post_id</th>\n",
       "      <th>text</th>\n",
       "      <th>topic</th>\n",
       "    </tr>\n",
       "  </thead>\n",
       "  <tbody>\n",
       "    <tr>\n",
       "      <th>368</th>\n",
       "      <td>358</td>\n",
       "      <td>Deutsche Boerse set to woo LSE\\n\\nBosses of De...</td>\n",
       "      <td>business</td>\n",
       "    </tr>\n",
       "    <tr>\n",
       "      <th>1243</th>\n",
       "      <td>1502</td>\n",
       "      <td>Record fails to lift lacklustre meet\\n\\nYelena...</td>\n",
       "      <td>sport</td>\n",
       "    </tr>\n",
       "    <tr>\n",
       "      <th>1739</th>\n",
       "      <td>1419</td>\n",
       "      <td>Holmes urged to compete at Worlds\\n\\nJolanda C...</td>\n",
       "      <td>sport</td>\n",
       "    </tr>\n",
       "    <tr>\n",
       "      <th>1819</th>\n",
       "      <td>1479</td>\n",
       "      <td>European medal chances improve\\n\\nWhat have th...</td>\n",
       "      <td>sport</td>\n",
       "    </tr>\n",
       "    <tr>\n",
       "      <th>2149</th>\n",
       "      <td>1768</td>\n",
       "      <td>Holmes back on form in Birmingham\\n\\nDouble Ol...</td>\n",
       "      <td>sport</td>\n",
       "    </tr>\n",
       "  </tbody>\n",
       "</table>\n",
       "</div>"
      ],
      "text/plain": [
       "      post_id                                               text     topic\n",
       "368       358  Deutsche Boerse set to woo LSE\\n\\nBosses of De...  business\n",
       "1243     1502  Record fails to lift lacklustre meet\\n\\nYelena...     sport\n",
       "1739     1419  Holmes urged to compete at Worlds\\n\\nJolanda C...     sport\n",
       "1819     1479  European medal chances improve\\n\\nWhat have th...     sport\n",
       "2149     1768  Holmes back on form in Birmingham\\n\\nDouble Ol...     sport"
      ]
     },
     "execution_count": 21,
     "metadata": {},
     "output_type": "execute_result"
    }
   ],
   "source": [
    "posts"
   ]
  },
  {
   "cell_type": "code",
   "execution_count": 22,
   "id": "9b432f8d-b1cd-4d7b-b776-e6c29cfa891f",
   "metadata": {},
   "outputs": [],
   "source": [
    "valid_post_ids = post_text_df['post_id'].unique().tolist()"
   ]
  },
  {
   "cell_type": "code",
   "execution_count": 23,
   "id": "7ca0c7ef-a148-44a2-bcce-0537b433699e",
   "metadata": {},
   "outputs": [],
   "source": [
    "top_5_posts_ids = [post_id for post_id in top_5_posts_ids if post_id in valid_post_ids]"
   ]
  },
  {
   "cell_type": "code",
   "execution_count": 24,
   "id": "4a91f0f0-22d9-431d-a05c-8e069ad3ebc4",
   "metadata": {},
   "outputs": [
    {
     "data": {
      "text/plain": [
       "[1479, 1502, 1768, 1419, 358]"
      ]
     },
     "execution_count": 24,
     "metadata": {},
     "output_type": "execute_result"
    }
   ],
   "source": [
    "top_5_posts_ids"
   ]
  }
 ],
 "metadata": {
  "kernelspec": {
   "display_name": "Python 3 (ipykernel)",
   "language": "python",
   "name": "python3"
  },
  "language_info": {
   "codemirror_mode": {
    "name": "ipython",
    "version": 3
   },
   "file_extension": ".py",
   "mimetype": "text/x-python",
   "name": "python",
   "nbconvert_exporter": "python",
   "pygments_lexer": "ipython3",
   "version": "3.8.10"
  }
 },
 "nbformat": 4,
 "nbformat_minor": 5
}
